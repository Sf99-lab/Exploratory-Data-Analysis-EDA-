{
  "nbformat": 4,
  "nbformat_minor": 0,
  "metadata": {
    "colab": {
      "provenance": [],
      "authorship_tag": "ABX9TyMtLGmeJIC4Ye1s9Mzy6TER",
      "include_colab_link": true
    },
    "kernelspec": {
      "name": "python3",
      "display_name": "Python 3"
    },
    "language_info": {
      "name": "python"
    }
  },
  "cells": [
    {
      "cell_type": "markdown",
      "metadata": {
        "id": "view-in-github",
        "colab_type": "text"
      },
      "source": [
        "<a href=\"https://colab.research.google.com/github/Sf99-lab/Exploratory-Data-Analysis-EDA-/blob/main/Python_Numpy_and_Vectorization.ipynb\" target=\"_parent\"><img src=\"https://colab.research.google.com/assets/colab-badge.svg\" alt=\"Open In Colab\"/></a>"
      ]
    },
    {
      "cell_type": "code",
      "execution_count": 1,
      "metadata": {
        "id": "sT7ln5W05JDT"
      },
      "outputs": [],
      "source": [
        "import numpy as np\n",
        "import sys\n",
        "import numpy.random as rand"
      ]
    },
    {
      "cell_type": "markdown",
      "source": [
        "***Vector Creation***"
      ],
      "metadata": {
        "id": "QHyuXkmg6KBh"
      }
    },
    {
      "cell_type": "code",
      "source": [
        "a = np.zeros(4)\n",
        "print(f\"Vector a: {a}, a shape: {a.shape}, a data type: {a.dtype}\")\n",
        "a = np.zeros((4,))\n",
        "print(f\"Vector a: {a}, a shape: {a.shape}, a data type: {a.dtype}\")\n",
        "a = np.random.random_sample(4)\n",
        "print(f\"Vector a: {a}, a shape: {a.shape}, a data type: {a.dtype}\")"
      ],
      "metadata": {
        "colab": {
          "base_uri": "https://localhost:8080/"
        },
        "id": "kqm_PTee6M7e",
        "outputId": "e5437e85-64ad-4452-fe77-02d20073e56a"
      },
      "execution_count": 3,
      "outputs": [
        {
          "output_type": "stream",
          "name": "stdout",
          "text": [
            "Vector a: [0. 0. 0. 0.], a shape: (4,), a data type: float64\n",
            "Vector a: [0. 0. 0. 0.], a shape: (4,), a data type: float64\n",
            "Vector a: [0.83463948 0.06387566 0.57331486 0.24748391], a shape: (4,), a data type: float64\n"
          ]
        }
      ]
    },
    {
      "cell_type": "markdown",
      "source": [
        "***Vectorization***"
      ],
      "metadata": {
        "id": "ehZ6o49e73GO"
      }
    },
    {
      "cell_type": "code",
      "source": [
        "#test 1-D\n",
        "a = np.array([1, 2, 3, 4])\n",
        "b = np.array([3, 2, 1, 0])\n",
        "c = np.dot(a, b)\n",
        "print(f\"Dot product of a and b: {c}, np.dot(a,b).shape = {c.shape}\")\n",
        "c = np.dot(b, a)\n",
        "print(f\"Dot product of b and a: {c}, np.dot(b,a).shape = {c.shape}\")"
      ],
      "metadata": {
        "colab": {
          "base_uri": "https://localhost:8080/"
        },
        "id": "hjgDjqkx7yyo",
        "outputId": "82e21061-8700-499d-bb96-ce39e5edb308"
      },
      "execution_count": 6,
      "outputs": [
        {
          "output_type": "stream",
          "name": "stdout",
          "text": [
            "Dot product of a and b: 10, np.dot(a,b).shape = ()\n",
            "Dot product of b and a: 10, np.dot(b,a).shape = ()\n"
          ]
        }
      ]
    },
    {
      "cell_type": "markdown",
      "source": [
        "***The Need for Speed: Vector vs Loop***"
      ],
      "metadata": {
        "id": "Ikt88HfF-Ub_"
      }
    },
    {
      "cell_type": "code",
      "source": [
        "# A function without vectorization\n",
        "def my_dot(a, b):\n",
        "  x = 0\n",
        "  for i in range(a.shape[0]):\n",
        "    x = x + a[i] * b[i]\n",
        "  return x"
      ],
      "metadata": {
        "id": "tagCbL-c-b_W"
      },
      "execution_count": 8,
      "outputs": []
    },
    {
      "cell_type": "code",
      "source": [
        "#Speed demonstration\n",
        "import time\n",
        "np.random.seed(1)\n",
        "a = np.random.rand(10000000)\n",
        "b = np.random.rand(10000000)\n",
        "\n",
        "tic = time.time()\n",
        "c = np.dot(a, b)\n",
        "toc = time.time()\n",
        "\n",
        "print(f\"np.dot(a, b) = {c:.4f}\")\n",
        "print(f\"Vectorized version duration: {1000*(toc-tic):.4f} ms\")\n",
        "\n",
        "tic = time.time()\n",
        "c = my_dot(a, b)\n",
        "toc = time.time()\n",
        "\n",
        "print(f\"my_dot(a, b) = {c:.4f}\")\n",
        "print(f\"loop version duration: {1000*(toc-tic):.4f} ms\")\n",
        "\n",
        "del(a)\n",
        "del(b)\n"
      ],
      "metadata": {
        "colab": {
          "base_uri": "https://localhost:8080/"
        },
        "id": "BjHv3bgpAAzv",
        "outputId": "4e43c767-7f59-4380-97e4-b44913953922"
      },
      "execution_count": 15,
      "outputs": [
        {
          "output_type": "stream",
          "name": "stdout",
          "text": [
            "np.dot(a, b) = 2501072.5817\n",
            "Vectorized version duration: 11.9348 ms\n",
            "my_dot(a, b) = 2501072.5817\n",
            "loop version duration: 3680.2533 ms\n"
          ]
        }
      ]
    }
  ]
}